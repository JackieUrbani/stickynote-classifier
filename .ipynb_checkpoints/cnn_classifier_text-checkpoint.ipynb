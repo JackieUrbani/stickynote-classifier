{
 "cells": [
  {
   "cell_type": "code",
   "execution_count": 1,
   "metadata": {},
   "outputs": [],
   "source": [
    "# Limit GPU ram usage for multiple models\n",
    "import tensorflow as tf\n",
    "gpus = tf.config.experimental.list_physical_devices('GPU')\n",
    "if gpus:\n",
    "    try:\n",
    "        for gpu in gpus:\n",
    "            tf.config.experimental.set_memory_growth(gpu, True)\n",
    "\n",
    "    except RuntimeError as e:\n",
    "        print(e)"
   ]
  },
  {
   "cell_type": "code",
   "execution_count": 2,
   "metadata": {},
   "outputs": [],
   "source": [
    "import matplotlib.pyplot as plt\n",
    "import seaborn as sns\n",
    "\n",
    "import keras\n",
    "from keras.models import Sequential\n",
    "from keras.models import model_from_json\n",
    "from keras.preprocessing.image import ImageDataGenerator\n",
    "from keras.utils import np_utils\n",
    "from keras import layers\n",
    "from keras import optimizers\n",
    "\n",
    "from sklearn.metrics import classification_report,confusion_matrix\n",
    "from sklearn.model_selection import train_test_split\n",
    "\n",
    "import cv2\n",
    "import os\n",
    "\n",
    "import numpy as np"
   ]
  },
  {
   "cell_type": "code",
   "execution_count": 3,
   "metadata": {},
   "outputs": [],
   "source": [
    "labels = ['throwaway', 'hi', 'there,', \"I'm\", 'Jackie', 'smile']\n",
    "\n",
    "def get_data(data_dir):\n",
    "    data = [] \n",
    "    for label in labels: \n",
    "        path = os.path.join(data_dir, label)\n",
    "        class_num = labels.index(label)\n",
    "        for img in os.listdir(path):\n",
    "            try:\n",
    "                # Read in and set to grayscale\n",
    "                img_arr = cv2.cvtColor(cv2.imread(os.path.join(path, img)), cv2.COLOR_BGR2GRAY)\n",
    "                data.append([img_arr, class_num])\n",
    "            except Exception as e:\n",
    "                print(e)\n",
    "    return np.array(data)"
   ]
  },
  {
   "cell_type": "code",
   "execution_count": 4,
   "metadata": {},
   "outputs": [
    {
     "name": "stderr",
     "output_type": "stream",
     "text": [
      "<ipython-input-3-2fab3ccb4e2f>:15: VisibleDeprecationWarning: Creating an ndarray from ragged nested sequences (which is a list-or-tuple of lists-or-tuples-or ndarrays with different lengths or shapes) is deprecated. If you meant to do this, you must specify 'dtype=object' when creating the ndarray\n",
      "  return np.array(data)\n"
     ]
    }
   ],
   "source": [
    "data = get_data('processed-images')"
   ]
  },
  {
   "cell_type": "code",
   "execution_count": 5,
   "metadata": {},
   "outputs": [
    {
     "name": "stderr",
     "output_type": "stream",
     "text": [
      "C:\\Users\\johna\\anaconda3\\lib\\site-packages\\seaborn\\_decorators.py:36: FutureWarning: Pass the following variable as a keyword arg: x. From version 0.12, the only valid positional argument will be `data`, and passing other arguments without an explicit keyword will result in an error or misinterpretation.\n",
      "  warnings.warn(\n"
     ]
    },
    {
     "data": {
      "text/plain": [
       "<AxesSubplot:ylabel='count'>"
      ]
     },
     "execution_count": 5,
     "metadata": {},
     "output_type": "execute_result"
    },
    {
     "data": {
      "image/png": "[encoded data removed]",
      "text/plain": [
       "<Figure size 432x288 with 1 Axes>"
      ]
     },
     "metadata": {},
     "output_type": "display_data"
    }
   ],
   "source": [
    "l = []\n",
    "for i in data:\n",
    "    if(i[1] == 0):\n",
    "        l.append(labels[0])\n",
    "    elif(i[1] == 1):\n",
    "        l.append(labels[1])\n",
    "    elif(i[1] == 2):\n",
    "        l.append(labels[2])\n",
    "    elif(i[1] == 3):\n",
    "        l.append(labels[3])\n",
    "    elif(i[1] == 4):\n",
    "        l.append(labels[4])\n",
    "    else:\n",
    "        l.append(labels[5])\n",
    "sns.set_style('darkgrid')\n",
    "sns.countplot(l)"
   ]
  },
  {
   "cell_type": "code",
   "execution_count": 6,
   "metadata": {},
   "outputs": [
    {
     "ename": "IndexError",
     "evalue": "index 500 is out of bounds for axis 0 with size 201",
     "output_type": "error",
     "traceback": [
      "\u001b[1;31m---------------------------------------------------------------------------\u001b[0m",
      "\u001b[1;31mIndexError\u001b[0m                                Traceback (most recent call last)",
      "\u001b[1;32m<ipython-input-6-974daacd9f8b>\u001b[0m in \u001b[0;36m<module>\u001b[1;34m\u001b[0m\n\u001b[0;32m      1\u001b[0m \u001b[0mplt\u001b[0m\u001b[1;33m.\u001b[0m\u001b[0mfigure\u001b[0m\u001b[1;33m(\u001b[0m\u001b[0mfigsize\u001b[0m \u001b[1;33m=\u001b[0m \u001b[1;33m(\u001b[0m\u001b[1;36m5\u001b[0m\u001b[1;33m,\u001b[0m\u001b[1;36m5\u001b[0m\u001b[1;33m)\u001b[0m\u001b[1;33m)\u001b[0m\u001b[1;33m\u001b[0m\u001b[1;33m\u001b[0m\u001b[0m\n\u001b[1;32m----> 2\u001b[1;33m \u001b[0mplt\u001b[0m\u001b[1;33m.\u001b[0m\u001b[0mimshow\u001b[0m\u001b[1;33m(\u001b[0m\u001b[0mdata\u001b[0m\u001b[1;33m[\u001b[0m\u001b[1;36m500\u001b[0m\u001b[1;33m]\u001b[0m\u001b[1;33m[\u001b[0m\u001b[1;36m0\u001b[0m\u001b[1;33m]\u001b[0m\u001b[1;33m)\u001b[0m\u001b[1;33m\u001b[0m\u001b[1;33m\u001b[0m\u001b[0m\n\u001b[0m\u001b[0;32m      3\u001b[0m \u001b[0mplt\u001b[0m\u001b[1;33m.\u001b[0m\u001b[0mtitle\u001b[0m\u001b[1;33m(\u001b[0m\u001b[0mlabels\u001b[0m\u001b[1;33m[\u001b[0m\u001b[0mdata\u001b[0m\u001b[1;33m[\u001b[0m\u001b[1;36m500\u001b[0m\u001b[1;33m]\u001b[0m\u001b[1;33m[\u001b[0m\u001b[1;36m1\u001b[0m\u001b[1;33m]\u001b[0m\u001b[1;33m]\u001b[0m\u001b[1;33m)\u001b[0m\u001b[1;33m\u001b[0m\u001b[1;33m\u001b[0m\u001b[0m\n",
      "\u001b[1;31mIndexError\u001b[0m: index 500 is out of bounds for axis 0 with size 201"
     ]
    },
    {
     "data": {
      "text/plain": [
       "<Figure size 360x360 with 0 Axes>"
      ]
     },
     "metadata": {},
     "output_type": "display_data"
    }
   ],
   "source": [
    "plt.figure(figsize = (5,5))\n",
    "plt.imshow(data[500][0])\n",
    "plt.title(labels[data[500][1]])"
   ]
  },
  {
   "cell_type": "code",
   "execution_count": 7,
   "metadata": {},
   "outputs": [],
   "source": [
    "# Split into a training and validation set\n",
    "X = []\n",
    "y = []\n",
    "\n",
    "for feature, label in data:\n",
    "  X.append(feature)\n",
    "  y.append(label)\n",
    "\n",
    "X_train, X_test, y_train, y_test = train_test_split(X, y, test_size=0.3, random_state=1)"
   ]
  },
  {
   "cell_type": "code",
   "execution_count": 8,
   "metadata": {},
   "outputs": [
    {
     "name": "stdout",
     "output_type": "stream",
     "text": [
      "(975, 128, 128, 1)\n",
      "(975,)\n",
      "(418, 128, 128, 1)\n",
      "(418,)\n"
     ]
    }
   ],
   "source": [
    "# Normalize the data\n",
    "X_train = np.array(X_train) / 255\n",
    "X_test = np.array(X_test) / 255\n",
    "X_train = X_train.reshape(X_train.shape[0], 128,128,1)\n",
    "X_test = X_test.reshape(X_test.shape[0], 128,128,1)\n",
    "y_train = np.array(y_train)\n",
    "y_test = np.array(y_test)\n",
    "\n",
    "print(X_train.shape)\n",
    "print(y_train.shape)\n",
    "print(X_test.shape)\n",
    "print(y_test.shape)"
   ]
  },
  {
   "cell_type": "code",
   "execution_count": 9,
   "metadata": {},
   "outputs": [
    {
     "name": "stdout",
     "output_type": "stream",
     "text": [
      "Shape before one-hot encoding:  (975,)\n",
      "Shape after one-hot encoding:  (975, 5)\n"
     ]
    }
   ],
   "source": [
    "# One-hot encoding\n",
    "print(\"Shape before one-hot encoding: \", y_train.shape)\n",
    "y_train = np_utils.to_categorical(y_train, len(labels))\n",
    "y_test = np_utils.to_categorical(y_test, len(labels))\n",
    "print(\"Shape after one-hot encoding: \", y_train.shape)"
   ]
  },
  {
   "cell_type": "code",
   "execution_count": 10,
   "metadata": {},
   "outputs": [],
   "source": [
    "from tensorflow.keras.callbacks import LearningRateScheduler\n",
    "\n",
    "model = Sequential()\n",
    "\n",
    "model.add(layers.Conv2D(128, (12, 12), activation='relu', strides=(2,2), padding='valid', input_shape=(128, 128, 1)))\n",
    "model.add(layers.Conv2D(256, (5, 5), activation='relu', strides=(1,2), padding='same'))\n",
    "model.add(layers.MaxPooling2D((2, 2)))\n",
    "model.add(layers.MaxPooling2D((2, 2)))\n",
    "\n",
    "model.add(layers.Flatten())\n",
    "model.add(layers.Dense(1024, activation='relu'))\n",
    "model.add(layers.Dense(len(labels)))\n",
    "\n",
    "model.compile(optimizers.Adam(learning_rate=0.0001, beta_1=0.95),\n",
    "              loss=tf.keras.losses.CategoricalCrossentropy(from_logits=True),\n",
    "              metrics=['accuracy'])"
   ]
  },
  {
   "cell_type": "code",
   "execution_count": 11,
   "metadata": {},
   "outputs": [
    {
     "name": "stdout",
     "output_type": "stream",
     "text": [
      "Model: \"sequential\"\n",
      "_________________________________________________________________\n",
      "Layer (type)                 Output Shape              Param #   \n",
      "=================================================================\n",
      "conv2d (Conv2D)              (None, 59, 59, 128)       18560     \n",
      "_________________________________________________________________\n",
      "conv2d_1 (Conv2D)            (None, 59, 30, 256)       819456    \n",
      "_________________________________________________________________\n",
      "max_pooling2d (MaxPooling2D) (None, 29, 15, 256)       0         \n",
      "_________________________________________________________________\n",
      "max_pooling2d_1 (MaxPooling2 (None, 14, 7, 256)        0         \n",
      "_________________________________________________________________\n",
      "flatten (Flatten)            (None, 25088)             0         \n",
      "_________________________________________________________________\n",
      "dense (Dense)                (None, 1024)              25691136  \n",
      "_________________________________________________________________\n",
      "dense_1 (Dense)              (None, 5)                 5125      \n",
      "=================================================================\n",
      "Total params: 26,534,277\n",
      "Trainable params: 26,534,277\n",
      "Non-trainable params: 0\n",
      "_________________________________________________________________\n"
     ]
    }
   ],
   "source": [
    "model.summary()"
   ]
  },
  {
   "cell_type": "code",
   "execution_count": 12,
   "metadata": {
    "scrolled": false
   },
   "outputs": [
    {
     "name": "stdout",
     "output_type": "stream",
     "text": [
      "Epoch 1/15\n",
      "16/16 [==============================] - 8s 227ms/step - loss: 1.6160 - accuracy: 0.2649 - val_loss: 1.5642 - val_accuracy: 0.3038\n",
      "Epoch 2/15\n",
      "16/16 [==============================] - 2s 97ms/step - loss: 1.5502 - accuracy: 0.3031 - val_loss: 1.4674 - val_accuracy: 0.3756\n",
      "Epoch 3/15\n",
      "16/16 [==============================] - 2s 97ms/step - loss: 1.4249 - accuracy: 0.4130 - val_loss: 1.2655 - val_accuracy: 0.6531\n",
      "Epoch 4/15\n",
      "16/16 [==============================] - 2s 97ms/step - loss: 1.2061 - accuracy: 0.6292 - val_loss: 0.9896 - val_accuracy: 0.7225\n",
      "Epoch 5/15\n",
      "16/16 [==============================] - 2s 97ms/step - loss: 0.9683 - accuracy: 0.7223 - val_loss: 0.9713 - val_accuracy: 0.6411\n",
      "Epoch 6/15\n",
      "16/16 [==============================] - 2s 97ms/step - loss: 0.8225 - accuracy: 0.7683 - val_loss: 0.6553 - val_accuracy: 0.8230\n",
      "Epoch 7/15\n",
      "16/16 [==============================] - 2s 97ms/step - loss: 0.6164 - accuracy: 0.8401 - val_loss: 0.5214 - val_accuracy: 0.8565\n",
      "Epoch 8/15\n",
      "16/16 [==============================] - 2s 97ms/step - loss: 0.5015 - accuracy: 0.8569 - val_loss: 0.4653 - val_accuracy: 0.8421\n",
      "Epoch 9/15\n",
      "16/16 [==============================] - 2s 97ms/step - loss: 0.4417 - accuracy: 0.8631 - val_loss: 0.4279 - val_accuracy: 0.8684\n",
      "Epoch 10/15\n",
      "16/16 [==============================] - 2s 97ms/step - loss: 0.3957 - accuracy: 0.8786 - val_loss: 0.3744 - val_accuracy: 0.8923\n",
      "Epoch 11/15\n",
      "16/16 [==============================] - 2s 97ms/step - loss: 0.3266 - accuracy: 0.9179 - val_loss: 0.3565 - val_accuracy: 0.8923\n",
      "Epoch 12/15\n",
      "16/16 [==============================] - 2s 97ms/step - loss: 0.2977 - accuracy: 0.9281 - val_loss: 0.3413 - val_accuracy: 0.9067\n",
      "Epoch 13/15\n",
      "16/16 [==============================] - 2s 97ms/step - loss: 0.2421 - accuracy: 0.9370 - val_loss: 0.3112 - val_accuracy: 0.9139\n",
      "Epoch 14/15\n",
      "16/16 [==============================] - 2s 97ms/step - loss: 0.2169 - accuracy: 0.9418 - val_loss: 0.3097 - val_accuracy: 0.9234\n",
      "Epoch 15/15\n",
      "16/16 [==============================] - 2s 97ms/step - loss: 0.1897 - accuracy: 0.9573 - val_loss: 0.2832 - val_accuracy: 0.9378\n"
     ]
    }
   ],
   "source": [
    "history = model.fit(X_train, y_train, epochs=15, batch_size=64, validation_data=(X_test, y_test))"
   ]
  },
  {
   "cell_type": "code",
   "execution_count": 13,
   "metadata": {},
   "outputs": [
    {
     "name": "stdout",
     "output_type": "stream",
     "text": [
      "14/14 - 1s - loss: 0.2832 - accuracy: 0.9378\n",
      "0.9377990365028381\n"
     ]
    },
    {
     "data": {
      "image/png": "[encoded data removed]",
      "text/plain": [
       "<Figure size 432x288 with 1 Axes>"
      ]
     },
     "metadata": {},
     "output_type": "display_data"
    }
   ],
   "source": [
    "plt.plot(history.history['accuracy'], label = 'accuracy')\n",
    "plt.plot(history.history['val_accuracy'], label = 'val_accuracy')\n",
    "plt.xlabel('Epoch')\n",
    "plt.ylabel('Accuracy')\n",
    "plt.ylim([0, 1])\n",
    "plt.legend(loc='lower right')\n",
    "\n",
    "test_loss, test_acc = model.evaluate(X_test,  y_test, verbose=2)\n",
    "\n",
    "print(test_acc)"
   ]
  },
  {
   "cell_type": "code",
   "execution_count": 14,
   "metadata": {},
   "outputs": [],
   "source": [
    "def predict(filename):\n",
    "    testing_img = cv2.cvtColor(cv2.imread(filename), cv2.COLOR_BGR2GRAY)\n",
    "    testing_img = np.array(testing_img) / 255\n",
    "    testing_img = testing_img.reshape(1,128,128,1)\n",
    "\n",
    "    prediction = model.predict(testing_img)\n",
    "    #print(prediction)\n",
    "    \n",
    "    i = 0\n",
    "    max_val_i = 0\n",
    "    max_val = prediction[0,0]\n",
    "    for label in prediction[0]:\n",
    "        if label > max_val:\n",
    "            max_val_i = i\n",
    "            max_val = label\n",
    "        i = i + 1\n",
    "    \n",
    "    return labels[max_val_i]"
   ]
  },
  {
   "cell_type": "code",
   "execution_count": 15,
   "metadata": {},
   "outputs": [
    {
     "name": "stdout",
     "output_type": "stream",
     "text": [
      "M -> M\n",
      "S -> S\n",
      "F -> F\n",
      "throwaway -> throwaway\n",
      "O -> O\n"
     ]
    }
   ],
   "source": [
    "print(predict('testing1.png') + ' -> M')\n",
    "print(predict('testing2.png') + ' -> S')\n",
    "print(predict('testing3.png') + ' -> F')\n",
    "print(predict('testing4.png') + ' -> throwaway')\n",
    "print(predict('testing5.png') + ' -> O')"
   ]
  },
  {
   "cell_type": "code",
   "execution_count": 16,
   "metadata": {},
   "outputs": [
    {
     "name": "stdout",
     "output_type": "stream",
     "text": [
      "Saved model to disk\n"
     ]
    }
   ],
   "source": [
    "# Serialize successful model to JSON\n",
    "model_json = model.to_json()\n",
    "with open(\"model.json\", \"w\") as json_file:\n",
    "    json_file.write(model_json)\n",
    "    \n",
    "# Serialize weights to HDF5\n",
    "model.save_weights(\"model.h5\")\n",
    "print(\"Saved model to disk\")"
   ]
  },
  {
   "cell_type": "code",
   "execution_count": null,
   "metadata": {},
   "outputs": [],
   "source": []
  }
 ],
 "metadata": {
  "kernelspec": {
   "display_name": "Python 3",
   "language": "python",
   "name": "python3"
  },
  "language_info": {
   "codemirror_mode": {
    "name": "ipython",
    "version": 3
   },
   "file_extension": ".py",
   "mimetype": "text/x-python",
   "name": "python",
   "nbconvert_exporter": "python",
   "pygments_lexer": "ipython3",
   "version": "3.8.5"
  }
 },
 "nbformat": 4,
 "nbformat_minor": 4
}
